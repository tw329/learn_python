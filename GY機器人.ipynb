{
 "cells": [
  {
   "cell_type": "code",
   "execution_count": null,
   "metadata": {
    "collapsed": true
   },
   "outputs": [],
   "source": []
  },
  {
   "cell_type": "code",
   "execution_count": null,
   "metadata": {
    "collapsed": false
   },
   "outputs": [],
   "source": [
    "bye=[\"掰\", \"88\", \"再見\", \"滾\", \"走開\"]\n",
    "good=[\"爽\", \"開心\", \"高興\", \"哈哈哈\", \"過了\"]\n",
    "bad=[\"傷心\", \"難過\", \"煩\", \"不爽\", \"爛\", \"被當\"]\n",
    "ask=[\"哪\", \"為什麼\", \"嗎\"]\n",
    "word=''\n",
    "print(\"嗨～你叫什麼名字？\\n\")\n",
    "name=input(\"我叫：\")\n",
    "print(\"嗨～ \"+name+\" 今天過得如何？\\n\")\n",
    "k=0\n",
    "while k<=1 :\n",
    "    word=input(\"\")\n",
    "    if any(i in word for i in bye):\n",
    "        print(\"跟你聊天真是浪費時間\")\n",
    "        k=k+100\n",
    "    elif any(i in word for i in good):\n",
    "        print(\"阿不就好棒棒\\n\")\n",
    "    elif any(i in word for i in bad):\n",
    "        print(\"呵呵，還好我不是你\\n\")\n",
    "    elif any(i in word for i in ask):\n",
    "        print(\"乾你屁事喔\\n\")\n",
    "    else:\n",
    "        print(\"我聽不懂你公啥\\n\")"
   ]
  },
  {
   "cell_type": "code",
   "execution_count": null,
   "metadata": {
    "collapsed": true
   },
   "outputs": [],
   "source": []
  }
 ],
 "metadata": {
  "kernelspec": {
   "display_name": "Python 3",
   "language": "python",
   "name": "python3"
  },
  "language_info": {
   "codemirror_mode": {
    "name": "ipython",
    "version": 3
   },
   "file_extension": ".py",
   "mimetype": "text/x-python",
   "name": "python",
   "nbconvert_exporter": "python",
   "pygments_lexer": "ipython3",
   "version": "3.5.2"
  }
 },
 "nbformat": 4,
 "nbformat_minor": 0
}
