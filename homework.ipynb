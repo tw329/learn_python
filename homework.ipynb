{
 "cells": [
  {
   "cell_type": "code",
   "execution_count": 1,
   "metadata": {
    "collapsed": true
   },
   "outputs": [],
   "source": [
    "%matplotlib inline\n",
    "import numpy as np\n",
    "import matplotlib.pyplot as plt\n",
    "import pandas as pd"
   ]
  },
  {
   "cell_type": "code",
   "execution_count": 4,
   "metadata": {
    "collapsed": false
   },
   "outputs": [],
   "source": [
    "df=pd.read_sas(\"a14243.sas7bdat\")"
   ]
  },
  {
   "cell_type": "code",
   "execution_count": 5,
   "metadata": {
    "collapsed": false
   },
   "outputs": [
    {
     "data": {
      "text/html": [
       "<div>\n",
       "<table border=\"1\" class=\"dataframe\">\n",
       "  <thead>\n",
       "    <tr style=\"text-align: right;\">\n",
       "      <th></th>\n",
       "      <th>id</th>\n",
       "      <th>sex</th>\n",
       "      <th>birth_d</th>\n",
       "      <th>birth_y</th>\n",
       "      <th>address1</th>\n",
       "      <th>address2</th>\n",
       "      <th>m_i_d</th>\n",
       "      <th>m_i_y</th>\n",
       "      <th>birth_place</th>\n",
       "      <th>marriage</th>\n",
       "      <th>...</th>\n",
       "      <th>death_d</th>\n",
       "      <th>death_y</th>\n",
       "      <th>death_mdy</th>\n",
       "      <th>m_o_address1</th>\n",
       "      <th>m_o_address2</th>\n",
       "      <th>m_i_address1</th>\n",
       "      <th>m_i_address2</th>\n",
       "      <th>m_o_mdy</th>\n",
       "      <th>m_i_mdy</th>\n",
       "      <th>age</th>\n",
       "    </tr>\n",
       "  </thead>\n",
       "  <tbody>\n",
       "    <tr>\n",
       "      <th>0</th>\n",
       "      <td>b'A100025973'</td>\n",
       "      <td>1.0</td>\n",
       "      <td>b'0230420'</td>\n",
       "      <td>b'023'</td>\n",
       "      <td>b'09020'</td>\n",
       "      <td>b'040'</td>\n",
       "      <td>NaN</td>\n",
       "      <td>NaN</td>\n",
       "      <td>NaN</td>\n",
       "      <td>NaN</td>\n",
       "      <td>...</td>\n",
       "      <td>b'1020218'</td>\n",
       "      <td>b'102'</td>\n",
       "      <td>19407.0</td>\n",
       "      <td>NaN</td>\n",
       "      <td>NaN</td>\n",
       "      <td>NaN</td>\n",
       "      <td>NaN</td>\n",
       "      <td>NaN</td>\n",
       "      <td>NaN</td>\n",
       "      <td>64.0</td>\n",
       "    </tr>\n",
       "    <tr>\n",
       "      <th>1</th>\n",
       "      <td>b'A100027879'</td>\n",
       "      <td>1.0</td>\n",
       "      <td>b'0151109'</td>\n",
       "      <td>b'015'</td>\n",
       "      <td>b'09020'</td>\n",
       "      <td>b'030'</td>\n",
       "      <td>NaN</td>\n",
       "      <td>NaN</td>\n",
       "      <td>NaN</td>\n",
       "      <td>b'1'</td>\n",
       "      <td>...</td>\n",
       "      <td>b'0910902'</td>\n",
       "      <td>b'091'</td>\n",
       "      <td>15585.0</td>\n",
       "      <td>NaN</td>\n",
       "      <td>NaN</td>\n",
       "      <td>NaN</td>\n",
       "      <td>NaN</td>\n",
       "      <td>NaN</td>\n",
       "      <td>NaN</td>\n",
       "      <td>72.0</td>\n",
       "    </tr>\n",
       "    <tr>\n",
       "      <th>2</th>\n",
       "      <td>b'A100092929'</td>\n",
       "      <td>1.0</td>\n",
       "      <td>b'0230818'</td>\n",
       "      <td>b'023'</td>\n",
       "      <td>b'09020'</td>\n",
       "      <td>b'050'</td>\n",
       "      <td>b'0831104'</td>\n",
       "      <td>b'083'</td>\n",
       "      <td>b'09019'</td>\n",
       "      <td>b'2'</td>\n",
       "      <td>...</td>\n",
       "      <td>NaN</td>\n",
       "      <td>NaN</td>\n",
       "      <td>NaN</td>\n",
       "      <td>NaN</td>\n",
       "      <td>NaN</td>\n",
       "      <td>NaN</td>\n",
       "      <td>NaN</td>\n",
       "      <td>NaN</td>\n",
       "      <td>NaN</td>\n",
       "      <td>64.0</td>\n",
       "    </tr>\n",
       "    <tr>\n",
       "      <th>3</th>\n",
       "      <td>b'A100128915'</td>\n",
       "      <td>1.0</td>\n",
       "      <td>b'0320524'</td>\n",
       "      <td>b'032'</td>\n",
       "      <td>b'09020'</td>\n",
       "      <td>b'030'</td>\n",
       "      <td>b'0870625'</td>\n",
       "      <td>b'087'</td>\n",
       "      <td>b'02035'</td>\n",
       "      <td>b'2'</td>\n",
       "      <td>...</td>\n",
       "      <td>NaN</td>\n",
       "      <td>NaN</td>\n",
       "      <td>NaN</td>\n",
       "      <td>NaN</td>\n",
       "      <td>NaN</td>\n",
       "      <td>NaN</td>\n",
       "      <td>NaN</td>\n",
       "      <td>NaN</td>\n",
       "      <td>NaN</td>\n",
       "      <td>55.0</td>\n",
       "    </tr>\n",
       "    <tr>\n",
       "      <th>4</th>\n",
       "      <td>b'A100334940'</td>\n",
       "      <td>1.0</td>\n",
       "      <td>b'0410312'</td>\n",
       "      <td>b'041'</td>\n",
       "      <td>b'09020'</td>\n",
       "      <td>b'040'</td>\n",
       "      <td>NaN</td>\n",
       "      <td>NaN</td>\n",
       "      <td>NaN</td>\n",
       "      <td>b'2'</td>\n",
       "      <td>...</td>\n",
       "      <td>b'1000617'</td>\n",
       "      <td>b'100'</td>\n",
       "      <td>18795.0</td>\n",
       "      <td>NaN</td>\n",
       "      <td>NaN</td>\n",
       "      <td>NaN</td>\n",
       "      <td>NaN</td>\n",
       "      <td>NaN</td>\n",
       "      <td>NaN</td>\n",
       "      <td>46.0</td>\n",
       "    </tr>\n",
       "  </tbody>\n",
       "</table>\n",
       "<p>5 rows × 27 columns</p>\n",
       "</div>"
      ],
      "text/plain": [
       "              id  sex     birth_d birth_y  address1 address2       m_i_d  \\\n",
       "0  b'A100025973'  1.0  b'0230420'  b'023'  b'09020'   b'040'         NaN   \n",
       "1  b'A100027879'  1.0  b'0151109'  b'015'  b'09020'   b'030'         NaN   \n",
       "2  b'A100092929'  1.0  b'0230818'  b'023'  b'09020'   b'050'  b'0831104'   \n",
       "3  b'A100128915'  1.0  b'0320524'  b'032'  b'09020'   b'030'  b'0870625'   \n",
       "4  b'A100334940'  1.0  b'0410312'  b'041'  b'09020'   b'040'         NaN   \n",
       "\n",
       "    m_i_y birth_place marriage  ...      death_d death_y death_mdy  \\\n",
       "0     NaN         NaN      NaN  ...   b'1020218'  b'102'   19407.0   \n",
       "1     NaN         NaN     b'1'  ...   b'0910902'  b'091'   15585.0   \n",
       "2  b'083'    b'09019'     b'2'  ...          NaN     NaN       NaN   \n",
       "3  b'087'    b'02035'     b'2'  ...          NaN     NaN       NaN   \n",
       "4     NaN         NaN     b'2'  ...   b'1000617'  b'100'   18795.0   \n",
       "\n",
       "   m_o_address1 m_o_address2 m_i_address1 m_i_address2 m_o_mdy m_i_mdy   age  \n",
       "0           NaN          NaN          NaN          NaN     NaN     NaN  64.0  \n",
       "1           NaN          NaN          NaN          NaN     NaN     NaN  72.0  \n",
       "2           NaN          NaN          NaN          NaN     NaN     NaN  64.0  \n",
       "3           NaN          NaN          NaN          NaN     NaN     NaN  55.0  \n",
       "4           NaN          NaN          NaN          NaN     NaN     NaN  46.0  \n",
       "\n",
       "[5 rows x 27 columns]"
      ]
     },
     "execution_count": 5,
     "metadata": {},
     "output_type": "execute_result"
    }
   ],
   "source": [
    "df.head()"
   ]
  },
  {
   "cell_type": "code",
   "execution_count": 6,
   "metadata": {
    "collapsed": true
   },
   "outputs": [],
   "source": [
    "df2=pd.read_csv('http://bit.ly/drinksbycountry')"
   ]
  },
  {
   "cell_type": "code",
   "execution_count": 7,
   "metadata": {
    "collapsed": false
   },
   "outputs": [
    {
     "data": {
      "text/html": [
       "<div>\n",
       "<table border=\"1\" class=\"dataframe\">\n",
       "  <thead>\n",
       "    <tr style=\"text-align: right;\">\n",
       "      <th></th>\n",
       "      <th>country</th>\n",
       "      <th>beer_servings</th>\n",
       "      <th>spirit_servings</th>\n",
       "      <th>wine_servings</th>\n",
       "      <th>total_litres_of_pure_alcohol</th>\n",
       "      <th>continent</th>\n",
       "    </tr>\n",
       "  </thead>\n",
       "  <tbody>\n",
       "    <tr>\n",
       "      <th>0</th>\n",
       "      <td>Afghanistan</td>\n",
       "      <td>0</td>\n",
       "      <td>0</td>\n",
       "      <td>0</td>\n",
       "      <td>0.0</td>\n",
       "      <td>Asia</td>\n",
       "    </tr>\n",
       "    <tr>\n",
       "      <th>1</th>\n",
       "      <td>Albania</td>\n",
       "      <td>89</td>\n",
       "      <td>132</td>\n",
       "      <td>54</td>\n",
       "      <td>4.9</td>\n",
       "      <td>Europe</td>\n",
       "    </tr>\n",
       "    <tr>\n",
       "      <th>2</th>\n",
       "      <td>Algeria</td>\n",
       "      <td>25</td>\n",
       "      <td>0</td>\n",
       "      <td>14</td>\n",
       "      <td>0.7</td>\n",
       "      <td>Africa</td>\n",
       "    </tr>\n",
       "    <tr>\n",
       "      <th>3</th>\n",
       "      <td>Andorra</td>\n",
       "      <td>245</td>\n",
       "      <td>138</td>\n",
       "      <td>312</td>\n",
       "      <td>12.4</td>\n",
       "      <td>Europe</td>\n",
       "    </tr>\n",
       "    <tr>\n",
       "      <th>4</th>\n",
       "      <td>Angola</td>\n",
       "      <td>217</td>\n",
       "      <td>57</td>\n",
       "      <td>45</td>\n",
       "      <td>5.9</td>\n",
       "      <td>Africa</td>\n",
       "    </tr>\n",
       "  </tbody>\n",
       "</table>\n",
       "</div>"
      ],
      "text/plain": [
       "       country  beer_servings  spirit_servings  wine_servings  \\\n",
       "0  Afghanistan              0                0              0   \n",
       "1      Albania             89              132             54   \n",
       "2      Algeria             25                0             14   \n",
       "3      Andorra            245              138            312   \n",
       "4       Angola            217               57             45   \n",
       "\n",
       "   total_litres_of_pure_alcohol continent  \n",
       "0                           0.0      Asia  \n",
       "1                           4.9    Europe  \n",
       "2                           0.7    Africa  \n",
       "3                          12.4    Europe  \n",
       "4                           5.9    Africa  "
      ]
     },
     "execution_count": 7,
     "metadata": {},
     "output_type": "execute_result"
    }
   ],
   "source": [
    "df2.head()"
   ]
  },
  {
   "cell_type": "code",
   "execution_count": 10,
   "metadata": {
    "collapsed": false
   },
   "outputs": [
    {
     "data": {
      "text/plain": [
       "<matplotlib.axes._subplots.AxesSubplot at 0x1c3e49908>"
      ]
     },
     "execution_count": 10,
     "metadata": {},
     "output_type": "execute_result"
    },
    {
     "data": {
      "image/png": "[encoded data removed]",
      "text/plain": [
       "<matplotlib.figure.Figure at 0x1c3e58710>"
      ]
     },
     "metadata": {},
     "output_type": "display_data"
    }
   ],
   "source": [
    "df2.groupby('continent').mean().plot(kind='bar')"
   ]
  },
  {
   "cell_type": "code",
   "execution_count": null,
   "metadata": {
    "collapsed": true
   },
   "outputs": [],
   "source": []
  }
 ],
 "metadata": {
  "kernelspec": {
   "display_name": "Python 3",
   "language": "python",
   "name": "python3"
  },
  "language_info": {
   "codemirror_mode": {
    "name": "ipython",
    "version": 3
   },
   "file_extension": ".py",
   "mimetype": "text/x-python",
   "name": "python",
   "nbconvert_exporter": "python",
   "pygments_lexer": "ipython3",
   "version": "3.5.2"
  }
 },
 "nbformat": 4,
 "nbformat_minor": 0
}
