{
 "cells": [
  {
   "cell_type": "code",
   "execution_count": 1,
   "metadata": {
    "collapsed": false
   },
   "outputs": [],
   "source": [
    "import numpy as np\n",
    "import sys"
   ]
  },
  {
   "cell_type": "code",
   "execution_count": 2,
   "metadata": {
    "collapsed": false
   },
   "outputs": [],
   "source": [
    "def Df(x,h):\n",
    "    return float(f(x+h)-f(x))/h"
   ]
  },
  {
   "cell_type": "code",
   "execution_count": 3,
   "metadata": {
    "collapsed": false
   },
   "outputs": [],
   "source": [
    "def f(x):\n",
    "    return 3*x**2+np.sin(x)\n",
    "def df(x):\n",
    "    return 6*x+np.cos(x)\n",
    "def df2(x):\n",
    "    return 6-np.sin(x)"
   ]
  },
  {
   "cell_type": "markdown",
   "metadata": {},
   "source": [
    "$h=\\sqrt{\\frac{2\\epsilon}{K}}$, where $K = \\frac{1}{2}f^{(2)}(\\xi)$"
   ]
  },
  {
   "cell_type": "code",
   "execution_count": 15,
   "metadata": {
    "collapsed": false
   },
   "outputs": [
    {
     "name": "stdout",
     "output_type": "stream",
     "text": [
      "28.2743338823 3.5 4.440892098500626e-16\n"
     ]
    }
   ],
   "source": [
    "x0 = 3*np.pi/2\n",
    "eps = sys.float_info.epsilon\n",
    "K = df2(x0)/2\n",
    "print (df(x0), K , 2*eps)"
   ]
  },
  {
   "cell_type": "code",
   "execution_count": 16,
   "metadata": {
    "collapsed": false
   },
   "outputs": [
    {
     "name": "stdout",
     "output_type": "stream",
     "text": [
      "1.12642190757e-08\n"
     ]
    }
   ],
   "source": [
    "h0 = np.sqrt(2*eps/K)\n",
    "print (h0)"
   ]
  },
  {
   "cell_type": "code",
   "execution_count": 17,
   "metadata": {
    "collapsed": false
   },
   "outputs": [
    {
     "name": "stdout",
     "output_type": "stream",
     "text": [
      "0 3.45969769413\n",
      "1 0.349958347219\n",
      "2 0.0349999583321\n",
      "3 0.00349999994855\n",
      "4 0.000349999879763\n",
      "5 3.49962476918e-05\n",
      "6 3.49930930454e-06\n",
      "7 3.16077848339e-07\n",
      "8 9.62899076029e-07\n",
      "9 5.22615549059e-06\n",
      "10 0.000133123847927\n",
      "11 0.000417340942231\n",
      "12 0.00894385377135\n",
      "13 0.00526700094385\n",
      "14 1.27370992342\n"
     ]
    }
   ],
   "source": [
    "a = df(x0)\n",
    "for i in range(15):\n",
    "    h = 10**(-i)\n",
    "    b = Df(x0,h)\n",
    "    e = abs(a-b)\n",
    "    print (i,e)"
   ]
  },
  {
   "cell_type": "code",
   "execution_count": 18,
   "metadata": {
    "collapsed": false
   },
   "outputs": [
    {
     "name": "stdout",
     "output_type": "stream",
     "text": [
      "1.35987705008e-06\n"
     ]
    }
   ],
   "source": [
    "b0 = Df(x0,h0)\n",
    "e = abs(a-b0)\n",
    "print (e)"
   ]
  },
  {
   "cell_type": "code",
   "execution_count": 19,
   "metadata": {
    "collapsed": false
   },
   "outputs": [
    {
     "name": "stdout",
     "output_type": "stream",
     "text": [
      "0 1.64152048399e-06 1.12689085038e-08\n",
      "1 1.19676647508e-05 1.99208040546e-09\n",
      "2 6.97485364185e-05 3.5215339086e-10\n",
      "3 0.000325850327005 6.22525126726e-11\n",
      "4 0.00188568538736 1.10047934642e-11\n",
      "5 0.0119658263097 1.58840511723e-12\n",
      "6 0.0341116487635 2.80793007417e-13\n",
      "7 nan inf\n",
      "8 nan nan\n",
      "9 nan nan\n",
      "10 nan nan\n",
      "11 nan nan\n",
      "12 nan nan\n",
      "13 nan nan\n",
      "14 nan nan\n"
     ]
    },
    {
     "name": "stderr",
     "output_type": "stream",
     "text": [
      "//anaconda/lib/python3.5/site-packages/ipykernel/__main__.py:4: RuntimeWarning: divide by zero encountered in double_scalars\n",
      "//anaconda/lib/python3.5/site-packages/ipykernel/__main__.py:2: RuntimeWarning: invalid value encountered in sin\n",
      "  from ipykernel import kernelapp as app\n"
     ]
    }
   ],
   "source": [
    "h = 10**(-1)\n",
    "for i in range(15):\n",
    "    K = (Df(x0,2*h)-Df(x0,h))/h\n",
    "    h = np.sqrt(2*eps/K)\n",
    "    \n",
    "    b = Df(x0,h)\n",
    "    e = abs(a-b)\n",
    "    print (i, e, h)\n"
   ]
  },
  {
   "cell_type": "code",
   "execution_count": null,
   "metadata": {
    "collapsed": true
   },
   "outputs": [],
   "source": []
  }
 ],
 "metadata": {
  "kernelspec": {
   "display_name": "Python 3",
   "language": "python",
   "name": "python3"
  },
  "language_info": {
   "codemirror_mode": {
    "name": "ipython",
    "version": 3
   },
   "file_extension": ".py",
   "mimetype": "text/x-python",
   "name": "python",
   "nbconvert_exporter": "python",
   "pygments_lexer": "ipython3",
   "version": "3.5.0"
  }
 },
 "nbformat": 4,
 "nbformat_minor": 0
}
