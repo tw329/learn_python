{
 "cells": [
  {
   "cell_type": "code",
   "execution_count": 1,
   "metadata": {
    "collapsed": false
   },
   "outputs": [],
   "source": [
    "from sympy import *\n",
    "from sympy.abc import x\n",
    "import numpy as np\n",
    "import matplotlib.pyplot as plt\n",
    "%matplotlib inline\n",
    "init_printing()"
   ]
  },
  {
   "cell_type": "code",
   "execution_count": 2,
   "metadata": {
    "collapsed": true
   },
   "outputs": [],
   "source": [
    "def polynomial(d):\n",
    "    for i in range(d+1):\n",
    "        if i==0:\n",
    "            st=str(np.random.randint(1,10))\n",
    "        else:\n",
    "            st=st+\"+\"+str(np.random.randint(1,10))+\"*x**\"+ str(i)\n",
    "    return S(st)"
   ]
  },
  {
   "cell_type": "code",
   "execution_count": 3,
   "metadata": {
    "collapsed": false
   },
   "outputs": [
    {
     "data": {
      "image/png": "[encoded data removed]",
      "text/latex": [
       "$$7 x^{3} + 5 x^{2} + 2 x + 8$$"
      ],
      "text/plain": [
       "   3      2          \n",
       "7⋅x  + 5⋅x  + 2⋅x + 8"
      ]
     },
     "execution_count": 3,
     "metadata": {},
     "output_type": "execute_result"
    }
   ],
   "source": [
    "polynomial(3)"
   ]
  },
  {
   "cell_type": "code",
   "execution_count": 4,
   "metadata": {
    "collapsed": false
   },
   "outputs": [],
   "source": [
    "def taylor():\n",
    "    a=int(input(\"函數階數？\"))\n",
    "    b=int(input(\"哪個點？\"))\n",
    "    c=int(input(\"階數？\"))\n",
    "    p=polynomial(a)\n",
    "    g=series(p, x, b, n=c)\n",
    "    h=g.removeO()\n",
    "    return h"
   ]
  },
  {
   "cell_type": "code",
   "execution_count": 5,
   "metadata": {
    "collapsed": false
   },
   "outputs": [],
   "source": [
    "from ipywidgets import interact"
   ]
  },
  {
   "cell_type": "code",
   "execution_count": 6,
   "metadata": {
    "collapsed": false
   },
   "outputs": [
    {
     "name": "stdout",
     "output_type": "stream",
     "text": [
      "函數階數？5\n",
      "哪個點？55\n",
      "階數？55\n"
     ]
    },
    {
     "data": {
      "image/png": "[encoded data removed]",
      "text/latex": [
       "$$275868236 x + 6 \\left(x - 55\\right)^{5} + 1652 \\left(x - 55\\right)^{4} + 181942 \\left(x - 55\\right)^{3} + 10019133 \\left(x - 55\\right)^{2} - 12134403320$$"
      ],
      "text/plain": [
       "                        5                4                  3                 \n",
       "275868236⋅x + 6⋅(x - 55)  + 1652⋅(x - 55)  + 181942⋅(x - 55)  + 10019133⋅(x - \n",
       "\n",
       "   2              \n",
       "55)  - 12134403320"
      ]
     },
     "execution_count": 6,
     "metadata": {},
     "output_type": "execute_result"
    }
   ],
   "source": [
    "taylor()"
   ]
  },
  {
   "cell_type": "code",
   "execution_count": null,
   "metadata": {
    "collapsed": true
   },
   "outputs": [],
   "source": []
  }
 ],
 "metadata": {
  "kernelspec": {
   "display_name": "Python 3",
   "language": "python",
   "name": "python3"
  },
  "language_info": {
   "codemirror_mode": {
    "name": "ipython",
    "version": 3
   },
   "file_extension": ".py",
   "mimetype": "text/x-python",
   "name": "python",
   "nbconvert_exporter": "python",
   "pygments_lexer": "ipython3",
   "version": "3.5.2"
  }
 },
 "nbformat": 4,
 "nbformat_minor": 0
}
