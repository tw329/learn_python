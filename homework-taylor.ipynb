{
 "cells": [
  {
   "cell_type": "code",
   "execution_count": 23,
   "metadata": {
    "collapsed": false
   },
   "outputs": [],
   "source": [
    "import numpy as np\n",
    "%matplotlib inline\n",
    "import matplotlib.pyplot as plt\n",
    "from sympy import *\n",
    "from IPython.display import display\n",
    "from ipywidgets import interact,interact_manual\n",
    "init_printing()"
   ]
  },
  {
   "cell_type": "code",
   "execution_count": 24,
   "metadata": {
    "collapsed": true
   },
   "outputs": [],
   "source": [
    "def polynomial(d):\n",
    "    for i in range(d+1):\n",
    "        if i==0:\n",
    "            st=str(np.random.randint(1,10))\n",
    "        else:\n",
    "            st=st+\"+\"+str(np.random.randint(1,10))+\"*x**\"+ str(i)\n",
    "    return S(st)"
   ]
  },
  {
   "cell_type": "code",
   "execution_count": 25,
   "metadata": {
    "collapsed": false
   },
   "outputs": [
    {
     "name": "stdout",
     "output_type": "stream",
     "text": [
      "8*x**2 + 5*x + 5\n"
     ]
    },
    {
     "data": {
      "image/png": "[encoded data removed]",
      "text/latex": [
       "$$47$$"
      ],
      "text/plain": [
       "47"
      ]
     },
     "execution_count": 25,
     "metadata": {},
     "output_type": "execute_result"
    }
   ],
   "source": [
    "z=polynomial(2)\n",
    "print(z)\n",
    "z.subs(x,2)"
   ]
  },
  {
   "cell_type": "code",
   "execution_count": 26,
   "metadata": {
    "collapsed": true
   },
   "outputs": [],
   "source": [
    "def taylor():\n",
    "    a=int(input(\"函數階數？\"))\n",
    "    b=int(input(\"哪個點？\"))\n",
    "    c=int(input(\"階數？\"))\n",
    "    p=polynomial(a)\n",
    "    g=series(p, x, b, n=c)\n",
    "    h=g.removeO()\n",
    "    return h"
   ]
  },
  {
   "cell_type": "code",
   "execution_count": 33,
   "metadata": {
    "collapsed": true
   },
   "outputs": [],
   "source": [
    "def diff(a):\n",
    "    f=exp(x)\n",
    "    g=series(f, x, n=a).removeO()\n",
    "    display(g)\n",
    "    h = lambdify(x,g,'numpy')\n",
    "    f_x = np.linspace(-4,2,1000)\n",
    "    f_y = np.exp(f_x)\n",
    "    g_x = np.linspace(-4,2,1000)\n",
    "    g_y = []\n",
    "    for i in g_x:\n",
    "        g_y.append(h(i))\n",
    "    plt.plot(f_x,f_y,lw = 5,color = 'b')\n",
    "    plt.plot(g_x,g_y,'r')\n",
    "    plt.axis([-3,2,0,2])"
   ]
  },
  {
   "cell_type": "code",
   "execution_count": 35,
   "metadata": {
    "collapsed": false
   },
   "outputs": [
    {
     "data": {
      "image/png": "[encoded data removed]",
      "text/latex": [
       "$$\\frac{x^{9}}{362880} + \\frac{x^{8}}{40320} + \\frac{x^{7}}{5040} + \\frac{x^{6}}{720} + \\frac{x^{5}}{120} + \\frac{x^{4}}{24} + \\frac{x^{3}}{6} + \\frac{x^{2}}{2} + x + 1$$"
      ],
      "text/plain": [
       "   9        8      7      6     5    4    3    2        \n",
       "  x        x      x      x     x    x    x    x         \n",
       "────── + ───── + ──── + ─── + ─── + ── + ── + ── + x + 1\n",
       "362880   40320   5040   720   120   24   6    2         "
      ]
     },
     "metadata": {},
     "output_type": "display_data"
    },
    {
     "data": {
      "image/png": "[encoded data removed]",
      "text/plain": [
       "<matplotlib.figure.Figure at 0x10f40e3c8>"
      ]
     },
     "metadata": {},
     "output_type": "display_data"
    }
   ],
   "source": [
    "interact(diff, a=(1,10))"
   ]
  },
  {
   "cell_type": "code",
   "execution_count": null,
   "metadata": {
    "collapsed": true
   },
   "outputs": [],
   "source": []
  }
 ],
 "metadata": {
  "kernelspec": {
   "display_name": "Python 3",
   "language": "python",
   "name": "python3"
  },
  "language_info": {
   "codemirror_mode": {
    "name": "ipython",
    "version": 3
   },
   "file_extension": ".py",
   "mimetype": "text/x-python",
   "name": "python",
   "nbconvert_exporter": "python",
   "pygments_lexer": "ipython3",
   "version": "3.5.2"
  }
 },
 "nbformat": 4,
 "nbformat_minor": 0
}
