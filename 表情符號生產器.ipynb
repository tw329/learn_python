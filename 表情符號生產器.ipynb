{
 "cells": [
  {
   "cell_type": "code",
   "execution_count": 1,
   "metadata": {
    "collapsed": true
   },
   "outputs": [],
   "source": [
    "import numpy as np"
   ]
  },
  {
   "cell_type": "code",
   "execution_count": 2,
   "metadata": {
    "collapsed": false
   },
   "outputs": [],
   "source": [
    "eyes=[\"・\", \"＾\", \"Θ\", \"◑\", \"◐\", \"∂\", \"☉\", \"⊙\", \"ఠ\", \"ಡ\", \"ಥ\", \"థ\", \",ె\", \"✪\", \"❂\", \"▣\", \"Ő\", \"◉\", \"☯\", \"✺\", \"✦\", \"Ｔ\", \"∧\", \"శ\"]\n",
    "mouth=[\"ω\", \"∀\", \"Д\", \"ェ\", \"益\", \"益\", \"３\", \"□\", \"△\", \"∇\", \"○\", \"⒱\", \"㈆\", \"㈈\", \"◊\", \"అ\", \"◞⊖◟\", \"ఒ\", \"ㅈ\"]\n",
    "hand=[\"つ\", \"っ\", \"ツ\", \"∩\", \"Щ\", \"✌\", \"Ψ\", \"δ\", \"〴\", \"y\", \"ζ\"]"
   ]
  },
  {
   "cell_type": "code",
   "execution_count": 3,
   "metadata": {
    "collapsed": false
   },
   "outputs": [
    {
     "name": "stdout",
     "output_type": "stream",
     "text": [
      "〴 (Ｔ Д Ｔ) 〴\n"
     ]
    }
   ],
   "source": [
    "e=np.random.choice(eyes)\n",
    "m=np.random.choice(mouth)\n",
    "h=np.random.choice(hand)\n",
    "\n",
    "print(\"%s (%s %s %s) %s\" %(h, e, m, e, h))"
   ]
  },
  {
   "cell_type": "code",
   "execution_count": null,
   "metadata": {
    "collapsed": true
   },
   "outputs": [],
   "source": []
  }
 ],
 "metadata": {
  "kernelspec": {
   "display_name": "Python 3",
   "language": "python",
   "name": "python3"
  },
  "language_info": {
   "codemirror_mode": {
    "name": "ipython",
    "version": 3
   },
   "file_extension": ".py",
   "mimetype": "text/x-python",
   "name": "python",
   "nbconvert_exporter": "python",
   "pygments_lexer": "ipython3",
   "version": "3.5.2"
  }
 },
 "nbformat": 4,
 "nbformat_minor": 0
}
