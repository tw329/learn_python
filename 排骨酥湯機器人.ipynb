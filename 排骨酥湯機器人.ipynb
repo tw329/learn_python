{
 "cells": [
  {
   "cell_type": "code",
   "execution_count": 7,
   "metadata": {
    "collapsed": false
   },
   "outputs": [
    {
     "name": "stdout",
     "output_type": "stream",
     "text": [
      "你的名字：\n",
      "超級帥哥王子瑜\n",
      "嗨～超級帥哥王子瑜\n"
     ]
    }
   ],
   "source": [
    "name=input(\"你的名字：\\n\")\n",
    "print(\"嗨～\"+ name)"
   ]
  },
  {
   "cell_type": "code",
   "execution_count": 12,
   "metadata": {
    "collapsed": false
   },
   "outputs": [
    {
     "name": "stdout",
     "output_type": "stream",
     "text": [
      "超級帥哥王子瑜：妳有喝過味增湯嗎？\n",
      "排骨酥湯機器人：我味增湯 都不放味曾與豆腐 改放菜頭排骨酥用肉燥提味\n",
      "排骨酥湯機器人：又清又香 但就略油 壽司改成糯米加香菇肉絲去蒸\n",
      "排骨酥湯機器人：這兩個配起來非常棒 最好是加點香菜\n",
      "超級帥哥王子瑜：那就是菜頭湯了吧...\n",
      "排骨酥湯機器人：不是菜頭湯 這味增湯 喝起來跟排骨酥湯90%口感很像\n",
      "超級帥哥王子瑜：那就是排骨酥湯啊幹\n"
     ]
    }
   ],
   "source": [
    "a=input(name+\"：\")\n",
    "print(\"排骨酥湯機器人：我味增湯 都不放味曾與豆腐 改放菜頭排骨酥用肉燥提味\")\n",
    "print(\"排骨酥湯機器人：又清又香 但就略油 壽司改成糯米加香菇肉絲去蒸\")\n",
    "print(\"排骨酥湯機器人：這兩個配起來非常棒 最好是加點香菜\")\n",
    "b=input(name+\"：\")\n",
    "print(\"排骨酥湯機器人：不是菜頭湯 這味增湯 喝起來跟排骨酥湯90%口感很像\")\n",
    "c=input(name+\"：\")"
   ]
  },
  {
   "cell_type": "code",
   "execution_count": null,
   "metadata": {
    "collapsed": true
   },
   "outputs": [],
   "source": []
  }
 ],
 "metadata": {
  "kernelspec": {
   "display_name": "Python 3",
   "language": "python",
   "name": "python3"
  },
  "language_info": {
   "codemirror_mode": {
    "name": "ipython",
    "version": 3
   },
   "file_extension": ".py",
   "mimetype": "text/x-python",
   "name": "python",
   "nbconvert_exporter": "python",
   "pygments_lexer": "ipython3",
   "version": "3.5.2"
  }
 },
 "nbformat": 4,
 "nbformat_minor": 0
}
