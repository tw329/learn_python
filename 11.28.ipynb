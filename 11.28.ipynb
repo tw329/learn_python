{
 "cells": [
  {
   "cell_type": "code",
   "execution_count": 1,
   "metadata": {
    "collapsed": true
   },
   "outputs": [],
   "source": [
    "%matplotlib inline\n",
    "import numpy as np\n",
    "import matplotlib.pyplot as plt\n",
    "import pandas as pd"
   ]
  },
  {
   "cell_type": "code",
   "execution_count": 2,
   "metadata": {
    "collapsed": true
   },
   "outputs": [],
   "source": [
    "df = pd.read_csv(\"http://bit.ly/uforeports\")"
   ]
  },
  {
   "cell_type": "code",
   "execution_count": 3,
   "metadata": {
    "collapsed": false
   },
   "outputs": [
    {
     "data": {
      "text/html": [
       "<div>\n",
       "<table border=\"1\" class=\"dataframe\">\n",
       "  <thead>\n",
       "    <tr style=\"text-align: right;\">\n",
       "      <th></th>\n",
       "      <th>City</th>\n",
       "      <th>Colors Reported</th>\n",
       "      <th>Shape Reported</th>\n",
       "      <th>State</th>\n",
       "      <th>Time</th>\n",
       "    </tr>\n",
       "  </thead>\n",
       "  <tbody>\n",
       "    <tr>\n",
       "      <th>0</th>\n",
       "      <td>Ithaca</td>\n",
       "      <td>NaN</td>\n",
       "      <td>TRIANGLE</td>\n",
       "      <td>NY</td>\n",
       "      <td>6/1/1930 22:00</td>\n",
       "    </tr>\n",
       "    <tr>\n",
       "      <th>1</th>\n",
       "      <td>Willingboro</td>\n",
       "      <td>NaN</td>\n",
       "      <td>OTHER</td>\n",
       "      <td>NJ</td>\n",
       "      <td>6/30/1930 20:00</td>\n",
       "    </tr>\n",
       "    <tr>\n",
       "      <th>2</th>\n",
       "      <td>Holyoke</td>\n",
       "      <td>NaN</td>\n",
       "      <td>OVAL</td>\n",
       "      <td>CO</td>\n",
       "      <td>2/15/1931 14:00</td>\n",
       "    </tr>\n",
       "    <tr>\n",
       "      <th>3</th>\n",
       "      <td>Abilene</td>\n",
       "      <td>NaN</td>\n",
       "      <td>DISK</td>\n",
       "      <td>KS</td>\n",
       "      <td>6/1/1931 13:00</td>\n",
       "    </tr>\n",
       "    <tr>\n",
       "      <th>4</th>\n",
       "      <td>New York Worlds Fair</td>\n",
       "      <td>NaN</td>\n",
       "      <td>LIGHT</td>\n",
       "      <td>NY</td>\n",
       "      <td>4/18/1933 19:00</td>\n",
       "    </tr>\n",
       "  </tbody>\n",
       "</table>\n",
       "</div>"
      ],
      "text/plain": [
       "                   City Colors Reported Shape Reported State             Time\n",
       "0                Ithaca             NaN       TRIANGLE    NY   6/1/1930 22:00\n",
       "1           Willingboro             NaN          OTHER    NJ  6/30/1930 20:00\n",
       "2               Holyoke             NaN           OVAL    CO  2/15/1931 14:00\n",
       "3               Abilene             NaN           DISK    KS   6/1/1931 13:00\n",
       "4  New York Worlds Fair             NaN          LIGHT    NY  4/18/1933 19:00"
      ]
     },
     "execution_count": 3,
     "metadata": {},
     "output_type": "execute_result"
    }
   ],
   "source": [
    "df.head()"
   ]
  },
  {
   "cell_type": "code",
   "execution_count": 4,
   "metadata": {
    "collapsed": true
   },
   "outputs": [],
   "source": [
    "df_state = df.groupby(\"State\").count()"
   ]
  },
  {
   "cell_type": "code",
   "execution_count": 7,
   "metadata": {
    "collapsed": false
   },
   "outputs": [],
   "source": [
    "df_state.sort_values(\"Time\", ascending=False, inplace=True)"
   ]
  },
  {
   "cell_type": "code",
   "execution_count": 12,
   "metadata": {
    "collapsed": false
   },
   "outputs": [
    {
     "data": {
      "text/plain": [
       "<matplotlib.axes._subplots.AxesSubplot at 0x10e6def28>"
      ]
     },
     "execution_count": 12,
     "metadata": {},
     "output_type": "execute_result"
    },
    {
     "data": {
      "image/png": "[encoded data removed]",
      "text/plain": [
       "<matplotlib.figure.Figure at 0x10e6de4a8>"
      ]
     },
     "metadata": {},
     "output_type": "display_data"
    }
   ],
   "source": [
    "df_state.head(10).Time.plot(kind='bar')"
   ]
  },
  {
   "cell_type": "code",
   "execution_count": 15,
   "metadata": {
    "collapsed": false
   },
   "outputs": [],
   "source": [
    "rawdata=np.random.randn(3,5)"
   ]
  },
  {
   "cell_type": "code",
   "execution_count": 16,
   "metadata": {
    "collapsed": false
   },
   "outputs": [],
   "source": [
    "df2 = pd.DataFrame(rawdata, columns=list(\"ABCDE\"), index=list(range(1,4)))"
   ]
  },
  {
   "cell_type": "code",
   "execution_count": 17,
   "metadata": {
    "collapsed": false
   },
   "outputs": [
    {
     "data": {
      "text/html": [
       "<div>\n",
       "<table border=\"1\" class=\"dataframe\">\n",
       "  <thead>\n",
       "    <tr style=\"text-align: right;\">\n",
       "      <th></th>\n",
       "      <th>A</th>\n",
       "      <th>B</th>\n",
       "      <th>C</th>\n",
       "      <th>D</th>\n",
       "      <th>E</th>\n",
       "    </tr>\n",
       "  </thead>\n",
       "  <tbody>\n",
       "    <tr>\n",
       "      <th>1</th>\n",
       "      <td>-0.425313</td>\n",
       "      <td>-0.363398</td>\n",
       "      <td>-0.939385</td>\n",
       "      <td>-1.818797</td>\n",
       "      <td>-1.583085</td>\n",
       "    </tr>\n",
       "    <tr>\n",
       "      <th>2</th>\n",
       "      <td>-0.152596</td>\n",
       "      <td>-2.140711</td>\n",
       "      <td>-0.105720</td>\n",
       "      <td>0.340208</td>\n",
       "      <td>0.173876</td>\n",
       "    </tr>\n",
       "    <tr>\n",
       "      <th>3</th>\n",
       "      <td>1.126876</td>\n",
       "      <td>-0.963334</td>\n",
       "      <td>-0.301287</td>\n",
       "      <td>0.706431</td>\n",
       "      <td>-0.175976</td>\n",
       "    </tr>\n",
       "  </tbody>\n",
       "</table>\n",
       "</div>"
      ],
      "text/plain": [
       "          A         B         C         D         E\n",
       "1 -0.425313 -0.363398 -0.939385 -1.818797 -1.583085\n",
       "2 -0.152596 -2.140711 -0.105720  0.340208  0.173876\n",
       "3  1.126876 -0.963334 -0.301287  0.706431 -0.175976"
      ]
     },
     "execution_count": 17,
     "metadata": {},
     "output_type": "execute_result"
    }
   ],
   "source": [
    "df2"
   ]
  },
  {
   "cell_type": "code",
   "execution_count": 18,
   "metadata": {
    "collapsed": false
   },
   "outputs": [
    {
     "data": {
      "text/plain": [
       "1   -0.425313\n",
       "2   -0.152596\n",
       "3    1.126876\n",
       "Name: A, dtype: float64"
      ]
     },
     "execution_count": 18,
     "metadata": {},
     "output_type": "execute_result"
    }
   ],
   "source": [
    "df2.A"
   ]
  },
  {
   "cell_type": "code",
   "execution_count": 19,
   "metadata": {
    "collapsed": false
   },
   "outputs": [
    {
     "data": {
      "text/html": [
       "<div>\n",
       "<table border=\"1\" class=\"dataframe\">\n",
       "  <thead>\n",
       "    <tr style=\"text-align: right;\">\n",
       "      <th></th>\n",
       "      <th>C</th>\n",
       "      <th>E</th>\n",
       "    </tr>\n",
       "  </thead>\n",
       "  <tbody>\n",
       "    <tr>\n",
       "      <th>1</th>\n",
       "      <td>-0.939385</td>\n",
       "      <td>-1.583085</td>\n",
       "    </tr>\n",
       "    <tr>\n",
       "      <th>2</th>\n",
       "      <td>-0.105720</td>\n",
       "      <td>0.173876</td>\n",
       "    </tr>\n",
       "    <tr>\n",
       "      <th>3</th>\n",
       "      <td>-0.301287</td>\n",
       "      <td>-0.175976</td>\n",
       "    </tr>\n",
       "  </tbody>\n",
       "</table>\n",
       "</div>"
      ],
      "text/plain": [
       "          C         E\n",
       "1 -0.939385 -1.583085\n",
       "2 -0.105720  0.173876\n",
       "3 -0.301287 -0.175976"
      ]
     },
     "execution_count": 19,
     "metadata": {},
     "output_type": "execute_result"
    }
   ],
   "source": [
    "df2[[\"C\",\"E\"]]"
   ]
  },
  {
   "cell_type": "code",
   "execution_count": 27,
   "metadata": {
    "collapsed": false
   },
   "outputs": [
    {
     "data": {
      "text/html": [
       "<div>\n",
       "<table border=\"1\" class=\"dataframe\">\n",
       "  <thead>\n",
       "    <tr style=\"text-align: right;\">\n",
       "      <th></th>\n",
       "      <th>B</th>\n",
       "      <th>C</th>\n",
       "      <th>D</th>\n",
       "    </tr>\n",
       "  </thead>\n",
       "  <tbody>\n",
       "    <tr>\n",
       "      <th>2</th>\n",
       "      <td>-2.140711</td>\n",
       "      <td>-0.105720</td>\n",
       "      <td>0.340208</td>\n",
       "    </tr>\n",
       "    <tr>\n",
       "      <th>3</th>\n",
       "      <td>-0.963334</td>\n",
       "      <td>-0.301287</td>\n",
       "      <td>0.706431</td>\n",
       "    </tr>\n",
       "  </tbody>\n",
       "</table>\n",
       "</div>"
      ],
      "text/plain": [
       "          B         C         D\n",
       "2 -2.140711 -0.105720  0.340208\n",
       "3 -0.963334 -0.301287  0.706431"
      ]
     },
     "execution_count": 27,
     "metadata": {},
     "output_type": "execute_result"
    }
   ],
   "source": [
    "df2.loc[2:3,\"B\":\"D\"]"
   ]
  },
  {
   "cell_type": "code",
   "execution_count": 37,
   "metadata": {
    "collapsed": false
   },
   "outputs": [],
   "source": [
    "df2.loc[df2.B<=0,\"C\"]=0"
   ]
  },
  {
   "cell_type": "code",
   "execution_count": 38,
   "metadata": {
    "collapsed": false
   },
   "outputs": [
    {
     "data": {
      "text/html": [
       "<div>\n",
       "<table border=\"1\" class=\"dataframe\">\n",
       "  <thead>\n",
       "    <tr style=\"text-align: right;\">\n",
       "      <th></th>\n",
       "      <th>A</th>\n",
       "      <th>B</th>\n",
       "      <th>C</th>\n",
       "      <th>D</th>\n",
       "      <th>E</th>\n",
       "    </tr>\n",
       "  </thead>\n",
       "  <tbody>\n",
       "    <tr>\n",
       "      <th>1</th>\n",
       "      <td>-0.425313</td>\n",
       "      <td>-0.363398</td>\n",
       "      <td>0</td>\n",
       "      <td>-1.818797</td>\n",
       "      <td>-1.583085</td>\n",
       "    </tr>\n",
       "    <tr>\n",
       "      <th>2</th>\n",
       "      <td>-0.152596</td>\n",
       "      <td>-2.140711</td>\n",
       "      <td>0</td>\n",
       "      <td>0.340208</td>\n",
       "      <td>0.173876</td>\n",
       "    </tr>\n",
       "    <tr>\n",
       "      <th>3</th>\n",
       "      <td>1.126876</td>\n",
       "      <td>-0.963334</td>\n",
       "      <td>0</td>\n",
       "      <td>0.706431</td>\n",
       "      <td>-0.175976</td>\n",
       "    </tr>\n",
       "  </tbody>\n",
       "</table>\n",
       "</div>"
      ],
      "text/plain": [
       "          A         B  C         D         E\n",
       "1 -0.425313 -0.363398  0 -1.818797 -1.583085\n",
       "2 -0.152596 -2.140711  0  0.340208  0.173876\n",
       "3  1.126876 -0.963334  0  0.706431 -0.175976"
      ]
     },
     "execution_count": 38,
     "metadata": {},
     "output_type": "execute_result"
    }
   ],
   "source": [
    "df2"
   ]
  },
  {
   "cell_type": "code",
   "execution_count": 42,
   "metadata": {
    "collapsed": false
   },
   "outputs": [
    {
     "data": {
      "text/plain": [
       "-2.1407111597782804"
      ]
     },
     "execution_count": 42,
     "metadata": {},
     "output_type": "execute_result"
    }
   ],
   "source": [
    "df2.loc[2][\"B\"]"
   ]
  },
  {
   "cell_type": "code",
   "execution_count": 43,
   "metadata": {
    "collapsed": true
   },
   "outputs": [],
   "source": [
    "import pandas_datareader.data as web\n",
    "import datetime"
   ]
  },
  {
   "cell_type": "code",
   "execution_count": 44,
   "metadata": {
    "collapsed": true
   },
   "outputs": [],
   "source": [
    "symbol = \"AAPL\"\n",
    "day_start = datetime.datetime(2010,1,1)\n",
    "day_end = datetime.datetime(2016,11,28)"
   ]
  },
  {
   "cell_type": "code",
   "execution_count": 55,
   "metadata": {
    "collapsed": true
   },
   "outputs": [],
   "source": [
    "df3=web.DataReader(symbol, 'yahoo', day_start, day_end)"
   ]
  },
  {
   "cell_type": "code",
   "execution_count": 56,
   "metadata": {
    "collapsed": false
   },
   "outputs": [
    {
     "data": {
      "text/html": [
       "<div>\n",
       "<table border=\"1\" class=\"dataframe\">\n",
       "  <thead>\n",
       "    <tr style=\"text-align: right;\">\n",
       "      <th></th>\n",
       "      <th>Open</th>\n",
       "      <th>High</th>\n",
       "      <th>Low</th>\n",
       "      <th>Close</th>\n",
       "      <th>Volume</th>\n",
       "      <th>Adj Close</th>\n",
       "    </tr>\n",
       "    <tr>\n",
       "      <th>Date</th>\n",
       "      <th></th>\n",
       "      <th></th>\n",
       "      <th></th>\n",
       "      <th></th>\n",
       "      <th></th>\n",
       "      <th></th>\n",
       "    </tr>\n",
       "  </thead>\n",
       "  <tbody>\n",
       "    <tr>\n",
       "      <th>2010-01-04</th>\n",
       "      <td>213.429998</td>\n",
       "      <td>214.499996</td>\n",
       "      <td>212.380001</td>\n",
       "      <td>214.009998</td>\n",
       "      <td>123432400</td>\n",
       "      <td>27.847252</td>\n",
       "    </tr>\n",
       "    <tr>\n",
       "      <th>2010-01-05</th>\n",
       "      <td>214.599998</td>\n",
       "      <td>215.589994</td>\n",
       "      <td>213.249994</td>\n",
       "      <td>214.379993</td>\n",
       "      <td>150476200</td>\n",
       "      <td>27.895396</td>\n",
       "    </tr>\n",
       "    <tr>\n",
       "      <th>2010-01-06</th>\n",
       "      <td>214.379993</td>\n",
       "      <td>215.230000</td>\n",
       "      <td>210.750004</td>\n",
       "      <td>210.969995</td>\n",
       "      <td>138040000</td>\n",
       "      <td>27.451683</td>\n",
       "    </tr>\n",
       "    <tr>\n",
       "      <th>2010-01-07</th>\n",
       "      <td>211.750000</td>\n",
       "      <td>212.000006</td>\n",
       "      <td>209.050005</td>\n",
       "      <td>210.580000</td>\n",
       "      <td>119282800</td>\n",
       "      <td>27.400936</td>\n",
       "    </tr>\n",
       "    <tr>\n",
       "      <th>2010-01-08</th>\n",
       "      <td>210.299994</td>\n",
       "      <td>212.000006</td>\n",
       "      <td>209.060005</td>\n",
       "      <td>211.980005</td>\n",
       "      <td>111902700</td>\n",
       "      <td>27.583106</td>\n",
       "    </tr>\n",
       "  </tbody>\n",
       "</table>\n",
       "</div>"
      ],
      "text/plain": [
       "                  Open        High         Low       Close     Volume  \\\n",
       "Date                                                                    \n",
       "2010-01-04  213.429998  214.499996  212.380001  214.009998  123432400   \n",
       "2010-01-05  214.599998  215.589994  213.249994  214.379993  150476200   \n",
       "2010-01-06  214.379993  215.230000  210.750004  210.969995  138040000   \n",
       "2010-01-07  211.750000  212.000006  209.050005  210.580000  119282800   \n",
       "2010-01-08  210.299994  212.000006  209.060005  211.980005  111902700   \n",
       "\n",
       "            Adj Close  \n",
       "Date                   \n",
       "2010-01-04  27.847252  \n",
       "2010-01-05  27.895396  \n",
       "2010-01-06  27.451683  \n",
       "2010-01-07  27.400936  \n",
       "2010-01-08  27.583106  "
      ]
     },
     "execution_count": 56,
     "metadata": {},
     "output_type": "execute_result"
    }
   ],
   "source": [
    "df3.head()"
   ]
  },
  {
   "cell_type": "code",
   "execution_count": 57,
   "metadata": {
    "collapsed": false
   },
   "outputs": [
    {
     "data": {
      "text/plain": [
       "<matplotlib.axes._subplots.AxesSubplot at 0x1122fc4a8>"
      ]
     },
     "execution_count": 57,
     "metadata": {},
     "output_type": "execute_result"
    },
    {
     "data": {
      "image/png": "[encoded data removed]",
      "text/plain": [
       "<matplotlib.figure.Figure at 0x1122f79b0>"
      ]
     },
     "metadata": {},
     "output_type": "display_data"
    }
   ],
   "source": [
    "df3.Close.plot()"
   ]
  },
  {
   "cell_type": "code",
   "execution_count": 58,
   "metadata": {
    "collapsed": true
   },
   "outputs": [],
   "source": [
    "df3[\"Diff\"]=df3.Close.diff()"
   ]
  },
  {
   "cell_type": "code",
   "execution_count": 59,
   "metadata": {
    "collapsed": false
   },
   "outputs": [
    {
     "data": {
      "text/html": [
       "<div>\n",
       "<table border=\"1\" class=\"dataframe\">\n",
       "  <thead>\n",
       "    <tr style=\"text-align: right;\">\n",
       "      <th></th>\n",
       "      <th>Open</th>\n",
       "      <th>High</th>\n",
       "      <th>Low</th>\n",
       "      <th>Close</th>\n",
       "      <th>Volume</th>\n",
       "      <th>Adj Close</th>\n",
       "      <th>Diff</th>\n",
       "    </tr>\n",
       "    <tr>\n",
       "      <th>Date</th>\n",
       "      <th></th>\n",
       "      <th></th>\n",
       "      <th></th>\n",
       "      <th></th>\n",
       "      <th></th>\n",
       "      <th></th>\n",
       "      <th></th>\n",
       "    </tr>\n",
       "  </thead>\n",
       "  <tbody>\n",
       "    <tr>\n",
       "      <th>2010-01-04</th>\n",
       "      <td>213.429998</td>\n",
       "      <td>214.499996</td>\n",
       "      <td>212.380001</td>\n",
       "      <td>214.009998</td>\n",
       "      <td>123432400</td>\n",
       "      <td>27.847252</td>\n",
       "      <td>NaN</td>\n",
       "    </tr>\n",
       "    <tr>\n",
       "      <th>2010-01-05</th>\n",
       "      <td>214.599998</td>\n",
       "      <td>215.589994</td>\n",
       "      <td>213.249994</td>\n",
       "      <td>214.379993</td>\n",
       "      <td>150476200</td>\n",
       "      <td>27.895396</td>\n",
       "      <td>0.369995</td>\n",
       "    </tr>\n",
       "    <tr>\n",
       "      <th>2010-01-06</th>\n",
       "      <td>214.379993</td>\n",
       "      <td>215.230000</td>\n",
       "      <td>210.750004</td>\n",
       "      <td>210.969995</td>\n",
       "      <td>138040000</td>\n",
       "      <td>27.451683</td>\n",
       "      <td>-3.409998</td>\n",
       "    </tr>\n",
       "    <tr>\n",
       "      <th>2010-01-07</th>\n",
       "      <td>211.750000</td>\n",
       "      <td>212.000006</td>\n",
       "      <td>209.050005</td>\n",
       "      <td>210.580000</td>\n",
       "      <td>119282800</td>\n",
       "      <td>27.400936</td>\n",
       "      <td>-0.389995</td>\n",
       "    </tr>\n",
       "    <tr>\n",
       "      <th>2010-01-08</th>\n",
       "      <td>210.299994</td>\n",
       "      <td>212.000006</td>\n",
       "      <td>209.060005</td>\n",
       "      <td>211.980005</td>\n",
       "      <td>111902700</td>\n",
       "      <td>27.583106</td>\n",
       "      <td>1.400005</td>\n",
       "    </tr>\n",
       "  </tbody>\n",
       "</table>\n",
       "</div>"
      ],
      "text/plain": [
       "                  Open        High         Low       Close     Volume  \\\n",
       "Date                                                                    \n",
       "2010-01-04  213.429998  214.499996  212.380001  214.009998  123432400   \n",
       "2010-01-05  214.599998  215.589994  213.249994  214.379993  150476200   \n",
       "2010-01-06  214.379993  215.230000  210.750004  210.969995  138040000   \n",
       "2010-01-07  211.750000  212.000006  209.050005  210.580000  119282800   \n",
       "2010-01-08  210.299994  212.000006  209.060005  211.980005  111902700   \n",
       "\n",
       "            Adj Close      Diff  \n",
       "Date                             \n",
       "2010-01-04  27.847252       NaN  \n",
       "2010-01-05  27.895396  0.369995  \n",
       "2010-01-06  27.451683 -3.409998  \n",
       "2010-01-07  27.400936 -0.389995  \n",
       "2010-01-08  27.583106  1.400005  "
      ]
     },
     "execution_count": 59,
     "metadata": {},
     "output_type": "execute_result"
    }
   ],
   "source": [
    "df3.head()"
   ]
  },
  {
   "cell_type": "code",
   "execution_count": 64,
   "metadata": {
    "collapsed": false
   },
   "outputs": [
    {
     "data": {
      "text/plain": [
       "<matplotlib.axes._subplots.AxesSubplot at 0x11235c048>"
      ]
     },
     "execution_count": 64,
     "metadata": {},
     "output_type": "execute_result"
    },
    {
     "data": {
      "image/png": "[encoded data removed]",
      "text/plain": [
       "<matplotlib.figure.Figure at 0x112354438>"
      ]
     },
     "metadata": {},
     "output_type": "display_data"
    }
   ],
   "source": [
    "df3.Diff.plot()"
   ]
  },
  {
   "cell_type": "code",
   "execution_count": 61,
   "metadata": {
    "collapsed": true
   },
   "outputs": [],
   "source": [
    "df3[\"Real_Diff\"]=df3.Diff / df3.Close"
   ]
  },
  {
   "cell_type": "code",
   "execution_count": 63,
   "metadata": {
    "collapsed": false
   },
   "outputs": [
    {
     "data": {
      "text/plain": [
       "<matplotlib.axes._subplots.AxesSubplot at 0x11245b588>"
      ]
     },
     "execution_count": 63,
     "metadata": {},
     "output_type": "execute_result"
    },
    {
     "data": {
      "image/png": "[encoded data removed]",
      "text/plain": [
       "<matplotlib.figure.Figure at 0x11142c6a0>"
      ]
     },
     "metadata": {},
     "output_type": "display_data"
    }
   ],
   "source": [
    "df3.Real_Diff.plot()"
   ]
  },
  {
   "cell_type": "code",
   "execution_count": 66,
   "metadata": {
    "collapsed": false
   },
   "outputs": [],
   "source": [
    "df3.dropna(inplace=True)"
   ]
  },
  {
   "cell_type": "code",
   "execution_count": 67,
   "metadata": {
    "collapsed": false
   },
   "outputs": [
    {
     "data": {
      "text/html": [
       "<div>\n",
       "<table border=\"1\" class=\"dataframe\">\n",
       "  <thead>\n",
       "    <tr style=\"text-align: right;\">\n",
       "      <th></th>\n",
       "      <th>Open</th>\n",
       "      <th>High</th>\n",
       "      <th>Low</th>\n",
       "      <th>Close</th>\n",
       "      <th>Volume</th>\n",
       "      <th>Adj Close</th>\n",
       "      <th>Diff</th>\n",
       "      <th>Real_Diff</th>\n",
       "    </tr>\n",
       "    <tr>\n",
       "      <th>Date</th>\n",
       "      <th></th>\n",
       "      <th></th>\n",
       "      <th></th>\n",
       "      <th></th>\n",
       "      <th></th>\n",
       "      <th></th>\n",
       "      <th></th>\n",
       "      <th></th>\n",
       "    </tr>\n",
       "  </thead>\n",
       "  <tbody>\n",
       "    <tr>\n",
       "      <th>2010-01-05</th>\n",
       "      <td>214.599998</td>\n",
       "      <td>215.589994</td>\n",
       "      <td>213.249994</td>\n",
       "      <td>214.379993</td>\n",
       "      <td>150476200</td>\n",
       "      <td>27.895396</td>\n",
       "      <td>0.369995</td>\n",
       "      <td>0.001726</td>\n",
       "    </tr>\n",
       "    <tr>\n",
       "      <th>2010-01-06</th>\n",
       "      <td>214.379993</td>\n",
       "      <td>215.230000</td>\n",
       "      <td>210.750004</td>\n",
       "      <td>210.969995</td>\n",
       "      <td>138040000</td>\n",
       "      <td>27.451683</td>\n",
       "      <td>-3.409998</td>\n",
       "      <td>-0.016163</td>\n",
       "    </tr>\n",
       "    <tr>\n",
       "      <th>2010-01-07</th>\n",
       "      <td>211.750000</td>\n",
       "      <td>212.000006</td>\n",
       "      <td>209.050005</td>\n",
       "      <td>210.580000</td>\n",
       "      <td>119282800</td>\n",
       "      <td>27.400936</td>\n",
       "      <td>-0.389995</td>\n",
       "      <td>-0.001852</td>\n",
       "    </tr>\n",
       "    <tr>\n",
       "      <th>2010-01-08</th>\n",
       "      <td>210.299994</td>\n",
       "      <td>212.000006</td>\n",
       "      <td>209.060005</td>\n",
       "      <td>211.980005</td>\n",
       "      <td>111902700</td>\n",
       "      <td>27.583106</td>\n",
       "      <td>1.400005</td>\n",
       "      <td>0.006604</td>\n",
       "    </tr>\n",
       "    <tr>\n",
       "      <th>2010-01-11</th>\n",
       "      <td>212.799997</td>\n",
       "      <td>213.000002</td>\n",
       "      <td>208.450005</td>\n",
       "      <td>210.110003</td>\n",
       "      <td>115557400</td>\n",
       "      <td>27.339779</td>\n",
       "      <td>-1.870002</td>\n",
       "      <td>-0.008900</td>\n",
       "    </tr>\n",
       "  </tbody>\n",
       "</table>\n",
       "</div>"
      ],
      "text/plain": [
       "                  Open        High         Low       Close     Volume  \\\n",
       "Date                                                                    \n",
       "2010-01-05  214.599998  215.589994  213.249994  214.379993  150476200   \n",
       "2010-01-06  214.379993  215.230000  210.750004  210.969995  138040000   \n",
       "2010-01-07  211.750000  212.000006  209.050005  210.580000  119282800   \n",
       "2010-01-08  210.299994  212.000006  209.060005  211.980005  111902700   \n",
       "2010-01-11  212.799997  213.000002  208.450005  210.110003  115557400   \n",
       "\n",
       "            Adj Close      Diff  Real_Diff  \n",
       "Date                                        \n",
       "2010-01-05  27.895396  0.369995   0.001726  \n",
       "2010-01-06  27.451683 -3.409998  -0.016163  \n",
       "2010-01-07  27.400936 -0.389995  -0.001852  \n",
       "2010-01-08  27.583106  1.400005   0.006604  \n",
       "2010-01-11  27.339779 -1.870002  -0.008900  "
      ]
     },
     "execution_count": 67,
     "metadata": {},
     "output_type": "execute_result"
    }
   ],
   "source": [
    "df3.head()"
   ]
  },
  {
   "cell_type": "code",
   "execution_count": 68,
   "metadata": {
    "collapsed": false
   },
   "outputs": [
    {
     "data": {
      "text/plain": [
       "-551.87002600000005"
      ]
     },
     "execution_count": 68,
     "metadata": {},
     "output_type": "execute_result"
    }
   ],
   "source": [
    "df3.Diff.min()"
   ]
  },
  {
   "cell_type": "code",
   "execution_count": 69,
   "metadata": {
    "collapsed": false
   },
   "outputs": [
    {
     "data": {
      "text/plain": [
       "Timestamp('2014-06-09 00:00:00')"
      ]
     },
     "execution_count": 69,
     "metadata": {},
     "output_type": "execute_result"
    }
   ],
   "source": [
    "df3.Diff.argmin()"
   ]
  },
  {
   "cell_type": "code",
   "execution_count": 70,
   "metadata": {
    "collapsed": true
   },
   "outputs": [],
   "source": [
    "df3.drop(df3.Diff.argmin(), inplace=True)"
   ]
  },
  {
   "cell_type": "code",
   "execution_count": 73,
   "metadata": {
    "collapsed": false
   },
   "outputs": [
    {
     "data": {
      "text/plain": [
       "<matplotlib.axes._subplots.AxesSubplot at 0x112ab8c18>"
      ]
     },
     "execution_count": 73,
     "metadata": {},
     "output_type": "execute_result"
    },
    {
     "data": {
      "image/png": "[encoded data removed]",
      "text/plain": [
       "<matplotlib.figure.Figure at 0x1127c8198>"
      ]
     },
     "metadata": {},
     "output_type": "display_data"
    }
   ],
   "source": [
    "df3.Diff.plot()"
   ]
  },
  {
   "cell_type": "code",
   "execution_count": 74,
   "metadata": {
    "collapsed": false
   },
   "outputs": [
    {
     "data": {
      "text/plain": [
       "[',系級,學號,姓名,總點數\\n',\n",
       " '0,中三甲,103101021,周政毅,1655.195\\n',\n",
       " '1,教育三,103102021,翁松璠,1450.3999999999999\\n',\n",
       " '2,教育四,102102063,陳品錞,1835.2\\n',\n",
       " '3,哲學四,102104030,李錦藤,1879.9499999999998\\n',\n",
       " '4,財二甲,104205055,潘柏樺,1171.69\\n',\n",
       " '5,財三甲,103205007,徐偉達,1694.0\\n',\n",
       " '6,經一乙,105208038,于雅綸,855.4350000000001\\n',\n",
       " '7,經三甲,103208091,藍國祐,2160.0\\n',\n",
       " '8,經三乙,103208004,張書豪,1355.1450000000002\\n',\n",
       " '9,經三乙,103209022,李芸萱,1399.14\\n',\n",
       " '10,經四甲,102208025,傅俞瑄,1186.2450000000001\\n',\n",
       " '11,金融三,103302060,張懷傑,1384.05\\n',\n",
       " '12,會一甲,105303055,黃得人,680.2\\n',\n",
       " '13,會三甲,103303069,孫瑄正,1382.2849999999999\\n',\n",
       " '14,會三乙,103303092,劉亮緯,739.8149999999999\\n',\n",
       " '15,會四甲,102207407,何居靜,1322.195\\n',\n",
       " '16,企三乙,103305100,洪瑞鋆,1642.7250000000001\\n',\n",
       " '17,資三乙,103306020,曾煜祐,2118.805\\n',\n",
       " '18,資三乙,103306048,蔡睿峰,1290.0\\n',\n",
       " '19,資三乙,103306086,陳心弘,1595.055\\n',\n",
       " '20,資四甲,102306061,何秉哲,2353.2000000000003\\n',\n",
       " '21,資四甲,102306069,張為淳,1595.9950000000001\\n',\n",
       " '22,資四乙,102306048,賴俊仁,2124.0\\n',\n",
       " '23,傳播二,104405192,劉宇馨,594.7\\n',\n",
       " '24,英四甲,102501063,?以霖,1715.0000000000002\\n',\n",
       " '25,法律三,103601023,王傳翔,800.0\\n',\n",
       " '26,應數一,105701011,胡懷方,1146.255\\n',\n",
       " '27,應數一,105701015,李佳諺,791.625\\n',\n",
       " '28,應數一,105701041,范聖彬,1177.2\\n',\n",
       " '29,應數一,105701042,廖家彥,1533.0\\n',\n",
       " '30,應數一,105701046,麥芝儀,627.51\\n',\n",
       " '31,應數二,104701034,徐永祐,804.9999999999999\\n',\n",
       " '32,應數二,104701047,彭羿凡,1598.3999999999999\\n',\n",
       " '33,應數二,104701049,郭傳浩,1322.4599999999998\\n',\n",
       " '34,應數三,103701003,吳柏寬,1224.0\\n',\n",
       " '35,應數三,103701006,鍾逢耘,2782.065\\n',\n",
       " '36,應數三,103701027,柯元富,1153.79\\n',\n",
       " '37,應數三,103701031,陳若穎,972.58\\n',\n",
       " '38,應數三,103701033,周家民,1571.2050000000002\\n',\n",
       " '39,應數三,103701036,黃冠棋,1439.7250000000001\\n',\n",
       " '40,應數四,102701010,吳牧真,1502.4599999999998\\n',\n",
       " '41,應數四,102701014,黃梓育,2701.0\\n',\n",
       " '42,應數四,102701019,林芝?,2220.0\\n',\n",
       " '43,應數四,102701021,黃平,2099.2000000000003\\n',\n",
       " '44,應數四,102701023,王子瑜,1564.115\\n',\n",
       " '45,應數四,102701035,翁禎佚,1621.725\\n',\n",
       " '46,應數四,102701040,方宜晟,1802.34\\n',\n",
       " '47,應數四,102701053,蔡旻均,1152.315\\n',\n",
       " '48,心理三,101208016,蘇勤,2376.0\\n',\n",
       " '49,心理三,103702021,蔣依穎,2156.0\\n']"
      ]
     },
     "execution_count": 74,
     "metadata": {},
     "output_type": "execute_result"
    }
   ],
   "source": [
    "f = open(\"grade.csv\", 'r')\n",
    "L = f.readlines()\n",
    "f.close()\n",
    "L"
   ]
  },
  {
   "cell_type": "code",
   "execution_count": 75,
   "metadata": {
    "collapsed": true
   },
   "outputs": [],
   "source": [
    "gd = pd.read_csv(\"grade.csv\")"
   ]
  },
  {
   "cell_type": "code",
   "execution_count": 76,
   "metadata": {
    "collapsed": false
   },
   "outputs": [
    {
     "data": {
      "text/html": [
       "<div>\n",
       "<table border=\"1\" class=\"dataframe\">\n",
       "  <thead>\n",
       "    <tr style=\"text-align: right;\">\n",
       "      <th></th>\n",
       "      <th>Unnamed: 0</th>\n",
       "      <th>系級</th>\n",
       "      <th>學號</th>\n",
       "      <th>姓名</th>\n",
       "      <th>總點數</th>\n",
       "    </tr>\n",
       "  </thead>\n",
       "  <tbody>\n",
       "    <tr>\n",
       "      <th>0</th>\n",
       "      <td>0</td>\n",
       "      <td>中三甲</td>\n",
       "      <td>103101021</td>\n",
       "      <td>周政毅</td>\n",
       "      <td>1655.195</td>\n",
       "    </tr>\n",
       "    <tr>\n",
       "      <th>1</th>\n",
       "      <td>1</td>\n",
       "      <td>教育三</td>\n",
       "      <td>103102021</td>\n",
       "      <td>翁松璠</td>\n",
       "      <td>1450.400</td>\n",
       "    </tr>\n",
       "    <tr>\n",
       "      <th>2</th>\n",
       "      <td>2</td>\n",
       "      <td>教育四</td>\n",
       "      <td>102102063</td>\n",
       "      <td>陳品錞</td>\n",
       "      <td>1835.200</td>\n",
       "    </tr>\n",
       "    <tr>\n",
       "      <th>3</th>\n",
       "      <td>3</td>\n",
       "      <td>哲學四</td>\n",
       "      <td>102104030</td>\n",
       "      <td>李錦藤</td>\n",
       "      <td>1879.950</td>\n",
       "    </tr>\n",
       "    <tr>\n",
       "      <th>4</th>\n",
       "      <td>4</td>\n",
       "      <td>財二甲</td>\n",
       "      <td>104205055</td>\n",
       "      <td>潘柏樺</td>\n",
       "      <td>1171.690</td>\n",
       "    </tr>\n",
       "    <tr>\n",
       "      <th>5</th>\n",
       "      <td>5</td>\n",
       "      <td>財三甲</td>\n",
       "      <td>103205007</td>\n",
       "      <td>徐偉達</td>\n",
       "      <td>1694.000</td>\n",
       "    </tr>\n",
       "    <tr>\n",
       "      <th>6</th>\n",
       "      <td>6</td>\n",
       "      <td>經一乙</td>\n",
       "      <td>105208038</td>\n",
       "      <td>于雅綸</td>\n",
       "      <td>855.435</td>\n",
       "    </tr>\n",
       "    <tr>\n",
       "      <th>7</th>\n",
       "      <td>7</td>\n",
       "      <td>經三甲</td>\n",
       "      <td>103208091</td>\n",
       "      <td>藍國祐</td>\n",
       "      <td>2160.000</td>\n",
       "    </tr>\n",
       "    <tr>\n",
       "      <th>8</th>\n",
       "      <td>8</td>\n",
       "      <td>經三乙</td>\n",
       "      <td>103208004</td>\n",
       "      <td>張書豪</td>\n",
       "      <td>1355.145</td>\n",
       "    </tr>\n",
       "    <tr>\n",
       "      <th>9</th>\n",
       "      <td>9</td>\n",
       "      <td>經三乙</td>\n",
       "      <td>103209022</td>\n",
       "      <td>李芸萱</td>\n",
       "      <td>1399.140</td>\n",
       "    </tr>\n",
       "    <tr>\n",
       "      <th>10</th>\n",
       "      <td>10</td>\n",
       "      <td>經四甲</td>\n",
       "      <td>102208025</td>\n",
       "      <td>傅俞瑄</td>\n",
       "      <td>1186.245</td>\n",
       "    </tr>\n",
       "    <tr>\n",
       "      <th>11</th>\n",
       "      <td>11</td>\n",
       "      <td>金融三</td>\n",
       "      <td>103302060</td>\n",
       "      <td>張懷傑</td>\n",
       "      <td>1384.050</td>\n",
       "    </tr>\n",
       "    <tr>\n",
       "      <th>12</th>\n",
       "      <td>12</td>\n",
       "      <td>會一甲</td>\n",
       "      <td>105303055</td>\n",
       "      <td>黃得人</td>\n",
       "      <td>680.200</td>\n",
       "    </tr>\n",
       "    <tr>\n",
       "      <th>13</th>\n",
       "      <td>13</td>\n",
       "      <td>會三甲</td>\n",
       "      <td>103303069</td>\n",
       "      <td>孫瑄正</td>\n",
       "      <td>1382.285</td>\n",
       "    </tr>\n",
       "    <tr>\n",
       "      <th>14</th>\n",
       "      <td>14</td>\n",
       "      <td>會三乙</td>\n",
       "      <td>103303092</td>\n",
       "      <td>劉亮緯</td>\n",
       "      <td>739.815</td>\n",
       "    </tr>\n",
       "    <tr>\n",
       "      <th>15</th>\n",
       "      <td>15</td>\n",
       "      <td>會四甲</td>\n",
       "      <td>102207407</td>\n",
       "      <td>何居靜</td>\n",
       "      <td>1322.195</td>\n",
       "    </tr>\n",
       "    <tr>\n",
       "      <th>16</th>\n",
       "      <td>16</td>\n",
       "      <td>企三乙</td>\n",
       "      <td>103305100</td>\n",
       "      <td>洪瑞鋆</td>\n",
       "      <td>1642.725</td>\n",
       "    </tr>\n",
       "    <tr>\n",
       "      <th>17</th>\n",
       "      <td>17</td>\n",
       "      <td>資三乙</td>\n",
       "      <td>103306020</td>\n",
       "      <td>曾煜祐</td>\n",
       "      <td>2118.805</td>\n",
       "    </tr>\n",
       "    <tr>\n",
       "      <th>18</th>\n",
       "      <td>18</td>\n",
       "      <td>資三乙</td>\n",
       "      <td>103306048</td>\n",
       "      <td>蔡睿峰</td>\n",
       "      <td>1290.000</td>\n",
       "    </tr>\n",
       "    <tr>\n",
       "      <th>19</th>\n",
       "      <td>19</td>\n",
       "      <td>資三乙</td>\n",
       "      <td>103306086</td>\n",
       "      <td>陳心弘</td>\n",
       "      <td>1595.055</td>\n",
       "    </tr>\n",
       "    <tr>\n",
       "      <th>20</th>\n",
       "      <td>20</td>\n",
       "      <td>資四甲</td>\n",
       "      <td>102306061</td>\n",
       "      <td>何秉哲</td>\n",
       "      <td>2353.200</td>\n",
       "    </tr>\n",
       "    <tr>\n",
       "      <th>21</th>\n",
       "      <td>21</td>\n",
       "      <td>資四甲</td>\n",
       "      <td>102306069</td>\n",
       "      <td>張為淳</td>\n",
       "      <td>1595.995</td>\n",
       "    </tr>\n",
       "    <tr>\n",
       "      <th>22</th>\n",
       "      <td>22</td>\n",
       "      <td>資四乙</td>\n",
       "      <td>102306048</td>\n",
       "      <td>賴俊仁</td>\n",
       "      <td>2124.000</td>\n",
       "    </tr>\n",
       "    <tr>\n",
       "      <th>23</th>\n",
       "      <td>23</td>\n",
       "      <td>傳播二</td>\n",
       "      <td>104405192</td>\n",
       "      <td>劉宇馨</td>\n",
       "      <td>594.700</td>\n",
       "    </tr>\n",
       "    <tr>\n",
       "      <th>24</th>\n",
       "      <td>24</td>\n",
       "      <td>英四甲</td>\n",
       "      <td>102501063</td>\n",
       "      <td>?以霖</td>\n",
       "      <td>1715.000</td>\n",
       "    </tr>\n",
       "    <tr>\n",
       "      <th>25</th>\n",
       "      <td>25</td>\n",
       "      <td>法律三</td>\n",
       "      <td>103601023</td>\n",
       "      <td>王傳翔</td>\n",
       "      <td>800.000</td>\n",
       "    </tr>\n",
       "    <tr>\n",
       "      <th>26</th>\n",
       "      <td>26</td>\n",
       "      <td>應數一</td>\n",
       "      <td>105701011</td>\n",
       "      <td>胡懷方</td>\n",
       "      <td>1146.255</td>\n",
       "    </tr>\n",
       "    <tr>\n",
       "      <th>27</th>\n",
       "      <td>27</td>\n",
       "      <td>應數一</td>\n",
       "      <td>105701015</td>\n",
       "      <td>李佳諺</td>\n",
       "      <td>791.625</td>\n",
       "    </tr>\n",
       "    <tr>\n",
       "      <th>28</th>\n",
       "      <td>28</td>\n",
       "      <td>應數一</td>\n",
       "      <td>105701041</td>\n",
       "      <td>范聖彬</td>\n",
       "      <td>1177.200</td>\n",
       "    </tr>\n",
       "    <tr>\n",
       "      <th>29</th>\n",
       "      <td>29</td>\n",
       "      <td>應數一</td>\n",
       "      <td>105701042</td>\n",
       "      <td>廖家彥</td>\n",
       "      <td>1533.000</td>\n",
       "    </tr>\n",
       "    <tr>\n",
       "      <th>30</th>\n",
       "      <td>30</td>\n",
       "      <td>應數一</td>\n",
       "      <td>105701046</td>\n",
       "      <td>麥芝儀</td>\n",
       "      <td>627.510</td>\n",
       "    </tr>\n",
       "    <tr>\n",
       "      <th>31</th>\n",
       "      <td>31</td>\n",
       "      <td>應數二</td>\n",
       "      <td>104701034</td>\n",
       "      <td>徐永祐</td>\n",
       "      <td>805.000</td>\n",
       "    </tr>\n",
       "    <tr>\n",
       "      <th>32</th>\n",
       "      <td>32</td>\n",
       "      <td>應數二</td>\n",
       "      <td>104701047</td>\n",
       "      <td>彭羿凡</td>\n",
       "      <td>1598.400</td>\n",
       "    </tr>\n",
       "    <tr>\n",
       "      <th>33</th>\n",
       "      <td>33</td>\n",
       "      <td>應數二</td>\n",
       "      <td>104701049</td>\n",
       "      <td>郭傳浩</td>\n",
       "      <td>1322.460</td>\n",
       "    </tr>\n",
       "    <tr>\n",
       "      <th>34</th>\n",
       "      <td>34</td>\n",
       "      <td>應數三</td>\n",
       "      <td>103701003</td>\n",
       "      <td>吳柏寬</td>\n",
       "      <td>1224.000</td>\n",
       "    </tr>\n",
       "    <tr>\n",
       "      <th>35</th>\n",
       "      <td>35</td>\n",
       "      <td>應數三</td>\n",
       "      <td>103701006</td>\n",
       "      <td>鍾逢耘</td>\n",
       "      <td>2782.065</td>\n",
       "    </tr>\n",
       "    <tr>\n",
       "      <th>36</th>\n",
       "      <td>36</td>\n",
       "      <td>應數三</td>\n",
       "      <td>103701027</td>\n",
       "      <td>柯元富</td>\n",
       "      <td>1153.790</td>\n",
       "    </tr>\n",
       "    <tr>\n",
       "      <th>37</th>\n",
       "      <td>37</td>\n",
       "      <td>應數三</td>\n",
       "      <td>103701031</td>\n",
       "      <td>陳若穎</td>\n",
       "      <td>972.580</td>\n",
       "    </tr>\n",
       "    <tr>\n",
       "      <th>38</th>\n",
       "      <td>38</td>\n",
       "      <td>應數三</td>\n",
       "      <td>103701033</td>\n",
       "      <td>周家民</td>\n",
       "      <td>1571.205</td>\n",
       "    </tr>\n",
       "    <tr>\n",
       "      <th>39</th>\n",
       "      <td>39</td>\n",
       "      <td>應數三</td>\n",
       "      <td>103701036</td>\n",
       "      <td>黃冠棋</td>\n",
       "      <td>1439.725</td>\n",
       "    </tr>\n",
       "    <tr>\n",
       "      <th>40</th>\n",
       "      <td>40</td>\n",
       "      <td>應數四</td>\n",
       "      <td>102701010</td>\n",
       "      <td>吳牧真</td>\n",
       "      <td>1502.460</td>\n",
       "    </tr>\n",
       "    <tr>\n",
       "      <th>41</th>\n",
       "      <td>41</td>\n",
       "      <td>應數四</td>\n",
       "      <td>102701014</td>\n",
       "      <td>黃梓育</td>\n",
       "      <td>2701.000</td>\n",
       "    </tr>\n",
       "    <tr>\n",
       "      <th>42</th>\n",
       "      <td>42</td>\n",
       "      <td>應數四</td>\n",
       "      <td>102701019</td>\n",
       "      <td>林芝?</td>\n",
       "      <td>2220.000</td>\n",
       "    </tr>\n",
       "    <tr>\n",
       "      <th>43</th>\n",
       "      <td>43</td>\n",
       "      <td>應數四</td>\n",
       "      <td>102701021</td>\n",
       "      <td>黃平</td>\n",
       "      <td>2099.200</td>\n",
       "    </tr>\n",
       "    <tr>\n",
       "      <th>44</th>\n",
       "      <td>44</td>\n",
       "      <td>應數四</td>\n",
       "      <td>102701023</td>\n",
       "      <td>王子瑜</td>\n",
       "      <td>1564.115</td>\n",
       "    </tr>\n",
       "    <tr>\n",
       "      <th>45</th>\n",
       "      <td>45</td>\n",
       "      <td>應數四</td>\n",
       "      <td>102701035</td>\n",
       "      <td>翁禎佚</td>\n",
       "      <td>1621.725</td>\n",
       "    </tr>\n",
       "    <tr>\n",
       "      <th>46</th>\n",
       "      <td>46</td>\n",
       "      <td>應數四</td>\n",
       "      <td>102701040</td>\n",
       "      <td>方宜晟</td>\n",
       "      <td>1802.340</td>\n",
       "    </tr>\n",
       "    <tr>\n",
       "      <th>47</th>\n",
       "      <td>47</td>\n",
       "      <td>應數四</td>\n",
       "      <td>102701053</td>\n",
       "      <td>蔡旻均</td>\n",
       "      <td>1152.315</td>\n",
       "    </tr>\n",
       "    <tr>\n",
       "      <th>48</th>\n",
       "      <td>48</td>\n",
       "      <td>心理三</td>\n",
       "      <td>101208016</td>\n",
       "      <td>蘇勤</td>\n",
       "      <td>2376.000</td>\n",
       "    </tr>\n",
       "    <tr>\n",
       "      <th>49</th>\n",
       "      <td>49</td>\n",
       "      <td>心理三</td>\n",
       "      <td>103702021</td>\n",
       "      <td>蔣依穎</td>\n",
       "      <td>2156.000</td>\n",
       "    </tr>\n",
       "  </tbody>\n",
       "</table>\n",
       "</div>"
      ],
      "text/plain": [
       "    Unnamed: 0   系級         學號   姓名       總點數\n",
       "0            0  中三甲  103101021  周政毅  1655.195\n",
       "1            1  教育三  103102021  翁松璠  1450.400\n",
       "2            2  教育四  102102063  陳品錞  1835.200\n",
       "3            3  哲學四  102104030  李錦藤  1879.950\n",
       "4            4  財二甲  104205055  潘柏樺  1171.690\n",
       "5            5  財三甲  103205007  徐偉達  1694.000\n",
       "6            6  經一乙  105208038  于雅綸   855.435\n",
       "7            7  經三甲  103208091  藍國祐  2160.000\n",
       "8            8  經三乙  103208004  張書豪  1355.145\n",
       "9            9  經三乙  103209022  李芸萱  1399.140\n",
       "10          10  經四甲  102208025  傅俞瑄  1186.245\n",
       "11          11  金融三  103302060  張懷傑  1384.050\n",
       "12          12  會一甲  105303055  黃得人   680.200\n",
       "13          13  會三甲  103303069  孫瑄正  1382.285\n",
       "14          14  會三乙  103303092  劉亮緯   739.815\n",
       "15          15  會四甲  102207407  何居靜  1322.195\n",
       "16          16  企三乙  103305100  洪瑞鋆  1642.725\n",
       "17          17  資三乙  103306020  曾煜祐  2118.805\n",
       "18          18  資三乙  103306048  蔡睿峰  1290.000\n",
       "19          19  資三乙  103306086  陳心弘  1595.055\n",
       "20          20  資四甲  102306061  何秉哲  2353.200\n",
       "21          21  資四甲  102306069  張為淳  1595.995\n",
       "22          22  資四乙  102306048  賴俊仁  2124.000\n",
       "23          23  傳播二  104405192  劉宇馨   594.700\n",
       "24          24  英四甲  102501063  ?以霖  1715.000\n",
       "25          25  法律三  103601023  王傳翔   800.000\n",
       "26          26  應數一  105701011  胡懷方  1146.255\n",
       "27          27  應數一  105701015  李佳諺   791.625\n",
       "28          28  應數一  105701041  范聖彬  1177.200\n",
       "29          29  應數一  105701042  廖家彥  1533.000\n",
       "30          30  應數一  105701046  麥芝儀   627.510\n",
       "31          31  應數二  104701034  徐永祐   805.000\n",
       "32          32  應數二  104701047  彭羿凡  1598.400\n",
       "33          33  應數二  104701049  郭傳浩  1322.460\n",
       "34          34  應數三  103701003  吳柏寬  1224.000\n",
       "35          35  應數三  103701006  鍾逢耘  2782.065\n",
       "36          36  應數三  103701027  柯元富  1153.790\n",
       "37          37  應數三  103701031  陳若穎   972.580\n",
       "38          38  應數三  103701033  周家民  1571.205\n",
       "39          39  應數三  103701036  黃冠棋  1439.725\n",
       "40          40  應數四  102701010  吳牧真  1502.460\n",
       "41          41  應數四  102701014  黃梓育  2701.000\n",
       "42          42  應數四  102701019  林芝?  2220.000\n",
       "43          43  應數四  102701021   黃平  2099.200\n",
       "44          44  應數四  102701023  王子瑜  1564.115\n",
       "45          45  應數四  102701035  翁禎佚  1621.725\n",
       "46          46  應數四  102701040  方宜晟  1802.340\n",
       "47          47  應數四  102701053  蔡旻均  1152.315\n",
       "48          48  心理三  101208016   蘇勤  2376.000\n",
       "49          49  心理三  103702021  蔣依穎  2156.000"
      ]
     },
     "execution_count": 76,
     "metadata": {},
     "output_type": "execute_result"
    }
   ],
   "source": [
    "gd"
   ]
  },
  {
   "cell_type": "code",
   "execution_count": 78,
   "metadata": {
    "collapsed": false
   },
   "outputs": [
    {
     "data": {
      "text/html": [
       "<div>\n",
       "<table border=\"1\" class=\"dataframe\">\n",
       "  <thead>\n",
       "    <tr style=\"text-align: right;\">\n",
       "      <th></th>\n",
       "      <th>Unnamed: 0</th>\n",
       "      <th>學號</th>\n",
       "      <th>總點數</th>\n",
       "    </tr>\n",
       "  </thead>\n",
       "  <tbody>\n",
       "    <tr>\n",
       "      <th>count</th>\n",
       "      <td>50.00000</td>\n",
       "      <td>5.000000e+01</td>\n",
       "      <td>50.000000</td>\n",
       "    </tr>\n",
       "    <tr>\n",
       "      <th>mean</th>\n",
       "      <td>24.50000</td>\n",
       "      <td>1.034852e+08</td>\n",
       "      <td>1506.407900</td>\n",
       "    </tr>\n",
       "    <tr>\n",
       "      <th>std</th>\n",
       "      <td>14.57738</td>\n",
       "      <td>1.107694e+06</td>\n",
       "      <td>525.822955</td>\n",
       "    </tr>\n",
       "    <tr>\n",
       "      <th>min</th>\n",
       "      <td>0.00000</td>\n",
       "      <td>1.012080e+08</td>\n",
       "      <td>594.700000</td>\n",
       "    </tr>\n",
       "    <tr>\n",
       "      <th>25%</th>\n",
       "      <td>12.25000</td>\n",
       "      <td>1.027010e+08</td>\n",
       "      <td>1173.067500</td>\n",
       "    </tr>\n",
       "    <tr>\n",
       "      <th>50%</th>\n",
       "      <td>24.50000</td>\n",
       "      <td>1.033031e+08</td>\n",
       "      <td>1476.430000</td>\n",
       "    </tr>\n",
       "    <tr>\n",
       "      <th>75%</th>\n",
       "      <td>36.75000</td>\n",
       "      <td>1.037018e+08</td>\n",
       "      <td>1780.505000</td>\n",
       "    </tr>\n",
       "    <tr>\n",
       "      <th>max</th>\n",
       "      <td>49.00000</td>\n",
       "      <td>1.057010e+08</td>\n",
       "      <td>2782.065000</td>\n",
       "    </tr>\n",
       "  </tbody>\n",
       "</table>\n",
       "</div>"
      ],
      "text/plain": [
       "       Unnamed: 0            學號          總點數\n",
       "count    50.00000  5.000000e+01    50.000000\n",
       "mean     24.50000  1.034852e+08  1506.407900\n",
       "std      14.57738  1.107694e+06   525.822955\n",
       "min       0.00000  1.012080e+08   594.700000\n",
       "25%      12.25000  1.027010e+08  1173.067500\n",
       "50%      24.50000  1.033031e+08  1476.430000\n",
       "75%      36.75000  1.037018e+08  1780.505000\n",
       "max      49.00000  1.057010e+08  2782.065000"
      ]
     },
     "execution_count": 78,
     "metadata": {},
     "output_type": "execute_result"
    }
   ],
   "source": [
    "gd.describe()"
   ]
  },
  {
   "cell_type": "code",
   "execution_count": null,
   "metadata": {
    "collapsed": true
   },
   "outputs": [],
   "source": []
  }
 ],
 "metadata": {
  "kernelspec": {
   "display_name": "Python 3",
   "language": "python",
   "name": "python3"
  },
  "language_info": {
   "codemirror_mode": {
    "name": "ipython",
    "version": 3
   },
   "file_extension": ".py",
   "mimetype": "text/x-python",
   "name": "python",
   "nbconvert_exporter": "python",
   "pygments_lexer": "ipython3",
   "version": "3.5.2"
  }
 },
 "nbformat": 4,
 "nbformat_minor": 0
}
